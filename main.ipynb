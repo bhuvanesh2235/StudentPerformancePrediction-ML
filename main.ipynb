{
 "cells": [
  {
   "cell_type": "code",
   "execution_count": 1,
   "metadata": {},
   "outputs": [
    {
     "name": "stderr",
     "output_type": "stream",
     "text": [
      "C:\\Users\\bhuvanesh\\AppData\\Roaming\\Python\\Python312\\site-packages\\sklearn\\linear_model\\_logistic.py:469: ConvergenceWarning: lbfgs failed to converge (status=1):\n",
      "STOP: TOTAL NO. of ITERATIONS REACHED LIMIT.\n",
      "\n",
      "Increase the number of iterations (max_iter) or scale the data as shown in:\n",
      "    https://scikit-learn.org/stable/modules/preprocessing.html\n",
      "Please also refer to the documentation for alternative solver options:\n",
      "    https://scikit-learn.org/stable/modules/linear_model.html#logistic-regression\n",
      "  n_iter_i = _check_optimize_result(\n"
     ]
    },
    {
     "name": "stdout",
     "output_type": "stream",
     "text": [
      " * Serving Flask app '__main__' (lazy loading)\n",
      " * Environment: production\n",
      "\u001b[31m   WARNING: This is a development server. Do not use it in a production deployment.\u001b[0m\n",
      "\u001b[2m   Use a production WSGI server instead.\u001b[0m\n",
      " * Debug mode: off\n"
     ]
    },
    {
     "name": "stderr",
     "output_type": "stream",
     "text": [
      "C:\\Users\\bhuvanesh\\AppData\\Roaming\\Python\\Python312\\site-packages\\sklearn\\neural_network\\_multilayer_perceptron.py:691: ConvergenceWarning: Stochastic Optimizer: Maximum iterations (200) reached and the optimization hasn't converged yet.\n",
      "  warnings.warn(\n",
      " * Running on http://127.0.0.1:5000/ (Press CTRL+C to quit)\n"
     ]
    }
   ],
   "source": [
    "from flask import Flask, render_template, request, jsonify\n",
    "import pandas as pd\n",
    "import sklearn.preprocessing as pp\n",
    "import sklearn.tree as tr\n",
    "import sklearn.metrics as m\n",
    "import sklearn.ensemble as es\n",
    "import sklearn.linear_model as lm\n",
    "import sklearn.neural_network as nn\n",
    "import numpy as np\n",
    "\n",
    "app = Flask(__name__)\n",
    "\n",
    "# Load your data\n",
    "data = pd.read_csv(\"AI-Data.csv\")\n",
    "\n",
    "# Preprocessing\n",
    "data = data.drop([\"gender\", \"StageID\", \"GradeID\", \"NationalITy\", \"PlaceofBirth\", \n",
    "                  \"SectionID\", \"Topic\", \"Semester\", \"Relation\", \"ParentCollegeSatisfaction\",\n",
    "                  \"ParentAnsweringSurvey\", \"AnnouncementsView\"], axis=1)\n",
    "\n",
    "gradeID_dict = {\"G-01\": 1, \"G-02\": 2, \"G-03\": 3, \"G-04\": 4, \"G-05\": 5, \"G-06\": 6,\n",
    "                \"G-07\": 7, \"G-08\": 8, \"G-09\": 9, \"G-10\": 10, \"G-11\": 11, \"G-12\": 12}\n",
    "data = data.replace({\"GradeID\": gradeID_dict})\n",
    "\n",
    "for column in data.columns:\n",
    "    if data[column].dtype == object:\n",
    "        le = pp.LabelEncoder()\n",
    "        data[column] = le.fit_transform(data[column])\n",
    "\n",
    "# Split features and labels\n",
    "X = data.iloc[:, :-1]\n",
    "y = data.iloc[:, -1]\n",
    "\n",
    "# Train-test split\n",
    "ind = int(len(data) * 0.70)\n",
    "X_train, X_test = X[:ind], X[ind:]\n",
    "y_train, y_test = y[:ind], y[ind:]\n",
    "\n",
    "# Train models\n",
    "modelD = tr.DecisionTreeClassifier()\n",
    "modelD.fit(X_train, y_train)\n",
    "\n",
    "modelR = es.RandomForestClassifier()\n",
    "modelR.fit(X_train, y_train)\n",
    "\n",
    "modelP = lm.Perceptron()\n",
    "modelP.fit(X_train, y_train)\n",
    "\n",
    "modelL = lm.LogisticRegression()\n",
    "modelL.fit(X_train, y_train)\n",
    "\n",
    "modelN = nn.MLPClassifier(activation=\"logistic\")\n",
    "modelN.fit(X_train, y_train)\n",
    "\n",
    "# Predict function\n",
    "def predict_result(features):\n",
    "    predD = modelD.predict(features.reshape(1, -1))[0]\n",
    "    predR = modelR.predict(features.reshape(1, -1))[0]\n",
    "    predP = modelP.predict(features.reshape(1, -1))[0]\n",
    "    predL = modelL.predict(features.reshape(1, -1))[0]\n",
    "    predN = modelN.predict(features.reshape(1, -1))[0]\n",
    "    \n",
    "    return {'DecisionTree': predD, 'RandomForest': predR, 'Perceptron': predP, 'LogisticRegression': predL, 'MLPClassifier': predN}\n",
    "\n",
    "@app.route('/')\n",
    "def index():\n",
    "    return render_template('index.html')\n",
    "\n",
    "@app.route('/predict', methods=['POST'])\n",
    "def predict():\n",
    "    data = request.get_json()\n",
    "    features = np.array([data['raised_hands'], data['visited_resources'], data['discussion'], data['absences']])\n",
    "    result = predict_result(features)\n",
    "    return jsonify(result)\n",
    "\n",
    "\n",
    "if __name__ == '__main__':\n",
    "    app.run()\n"
   ]
  },
  {
   "cell_type": "code",
   "execution_count": null,
   "metadata": {},
   "outputs": [
    {
     "name": "stdout",
     "output_type": "stream",
     "text": [
      "Defaulting to user installation because normal site-packages is not writeable\n",
      "Requirement already satisfied: flask in c:\\users\\bhuvanesh\\appdata\\roaming\\python\\python312\\site-packages (2.1.3)\n",
      "Requirement already satisfied: Werkzeug>=2.0 in c:\\users\\bhuvanesh\\appdata\\roaming\\python\\python312\\site-packages (from flask) (2.0.0)\n",
      "Requirement already satisfied: Jinja2>=3.0 in c:\\users\\bhuvanesh\\appdata\\roaming\\python\\python312\\site-packages (from flask) (3.0.0)\n",
      "Requirement already satisfied: itsdangerous>=2.0 in c:\\users\\bhuvanesh\\appdata\\roaming\\python\\python312\\site-packages (from flask) (2.0.0)\n",
      "Requirement already satisfied: click>=8.0 in c:\\users\\bhuvanesh\\appdata\\roaming\\python\\python312\\site-packages (from flask) (8.1.7)\n",
      "Requirement already satisfied: colorama in c:\\users\\bhuvanesh\\appdata\\roaming\\python\\python312\\site-packages (from click>=8.0->flask) (0.4.6)\n",
      "Requirement already satisfied: MarkupSafe>=2.0.0rc2 in c:\\users\\bhuvanesh\\appdata\\roaming\\python\\python312\\site-packages (from Jinja2>=3.0->flask) (2.1.5)\n",
      "Note: you may need to restart the kernel to use updated packages.\n"
     ]
    }
   ],
   "source": [
    "%pip install "
   ]
  }
 ],
 "metadata": {
  "kernelspec": {
   "display_name": "Python 3",
   "language": "python",
   "name": "python3"
  },
  "language_info": {
   "codemirror_mode": {
    "name": "ipython",
    "version": 3
   },
   "file_extension": ".py",
   "mimetype": "text/x-python",
   "name": "python",
   "nbconvert_exporter": "python",
   "pygments_lexer": "ipython3",
   "version": "3.12.2"
  }
 },
 "nbformat": 4,
 "nbformat_minor": 2
}
